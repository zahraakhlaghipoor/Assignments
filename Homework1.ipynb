{
 "cells": [
  {
   "cell_type": "markdown",
   "id": "46b5577b-f65e-469e-af67-aa0842cf1d7c",
   "metadata": {},
   "source": [
    "# Homwork 1"
   ]
  },
  {
   "cell_type": "markdown",
   "id": "4d3ff9b0-cd20-40e8-b272-edb84fb8c0bc",
   "metadata": {},
   "source": [
    "### Write a funtion sum_of_list that takes a list of integers as input and returns the sum of all the integers in the list"
   ]
  },
  {
   "cell_type": "code",
   "execution_count": 3,
   "id": "6480ba86-54e0-4d42-afce-eb30ae439411",
   "metadata": {},
   "outputs": [
    {
     "data": {
      "text/plain": [
       "10"
      ]
     },
     "execution_count": 3,
     "metadata": {},
     "output_type": "execute_result"
    }
   ],
   "source": [
    "def sum_of_list(input_list):\n",
    "    return sum(input_list)\n",
    "\n",
    "input_list = [1,2,3,4]\n",
    "output = sum_of_list(input_list)\n",
    "output"
   ]
  },
  {
   "cell_type": "markdown",
   "id": "9de8000e-add4-4a64-b520-32df302c88ae",
   "metadata": {},
   "source": [
    "### Create a function check_key that accepts a dictionary and a key as input.The function should return True if the key exists in the dictionary and False otherwise. "
   ]
  },
  {
   "cell_type": "code",
   "execution_count": 24,
   "id": "85202245-8380-4965-bb35-8557af4ed614",
   "metadata": {},
   "outputs": [
    {
     "name": "stdout",
     "output_type": "stream",
     "text": [
      "True\n"
     ]
    }
   ],
   "source": [
    "def check_key(dict1 , key):\n",
    "    return key in dict1\n",
    "\n",
    "dict1 = {'name':'Alireza','age':24,'phone': 910291092}\n",
    "key = 'age'\n",
    "result = check_key(dict1 , key)\n",
    "print(result)"
   ]
  },
  {
   "cell_type": "markdown",
   "id": "933b651c-7b85-4274-aa37-3a2afd98a61c",
   "metadata": {},
   "source": [
    "### Write a function reverse_staring that takes a staring as input and retuns the staring reversed"
   ]
  },
  {
   "cell_type": "code",
   "execution_count": 43,
   "id": "f2d012e1-e0e2-4d6a-be40-f8ad77b0695d",
   "metadata": {},
   "outputs": [
    {
     "name": "stdout",
     "output_type": "stream",
     "text": [
      "olleH\n"
     ]
    }
   ],
   "source": [
    "def reverse_staring(word):\n",
    "    return word[::-1]\n",
    "\n",
    "word = \"Hello\"\n",
    "result1 = reverse_staring(word)\n",
    "print(result1)"
   ]
  },
  {
   "cell_type": "code",
   "execution_count": null,
   "id": "82bd2b4a-3b76-4a1f-b932-ded617d9a3d8",
   "metadata": {},
   "outputs": [],
   "source": []
  }
 ],
 "metadata": {
  "kernelspec": {
   "display_name": "Python 3 (ipykernel)",
   "language": "python",
   "name": "python3"
  },
  "language_info": {
   "codemirror_mode": {
    "name": "ipython",
    "version": 3
   },
   "file_extension": ".py",
   "mimetype": "text/x-python",
   "name": "python",
   "nbconvert_exporter": "python",
   "pygments_lexer": "ipython3",
   "version": "3.12.4"
  }
 },
 "nbformat": 4,
 "nbformat_minor": 5
}
